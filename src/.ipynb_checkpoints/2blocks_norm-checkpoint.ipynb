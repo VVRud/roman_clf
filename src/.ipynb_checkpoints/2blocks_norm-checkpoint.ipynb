{
 "cells": [
  {
   "cell_type": "code",
   "execution_count": 1,
   "metadata": {
    "ExecuteTime": {
     "end_time": "2019-02-06T13:04:35.936825Z",
     "start_time": "2019-02-06T13:04:34.500500Z"
    }
   },
   "outputs": [],
   "source": [
    "import os\n",
    "import sys\n",
    "from tqdm import tqdm\n",
    "from PIL import Image\n",
    "import numpy as np\n",
    "\n",
    "sys.path.extend(['..'])\n",
    "\n",
    "from utils.config import process_config\n",
    "\n",
    "import tensorflow as tf\n",
    "from tensorflow.layers import (conv2d, max_pooling2d, average_pooling2d, batch_normalization, dropout, dense)\n",
    "from tensorflow.nn import (relu, sigmoid, softmax, )\n",
    "\n",
    "from sklearn.utils import shuffle"
   ]
  },
  {
   "cell_type": "code",
   "execution_count": 2,
   "metadata": {
    "ExecuteTime": {
     "end_time": "2019-02-06T13:04:35.961463Z",
     "start_time": "2019-02-06T13:04:35.957954Z"
    }
   },
   "outputs": [],
   "source": [
    "config_tf = tf.ConfigProto(allow_soft_placement=True)\n",
    "config_tf.gpu_options.allow_growth = True\n",
    "config_tf.gpu_options.per_process_gpu_memory_fraction = 0.95"
   ]
  },
  {
   "cell_type": "code",
   "execution_count": 3,
   "metadata": {
    "ExecuteTime": {
     "end_time": "2019-02-06T13:04:35.979081Z",
     "start_time": "2019-02-06T13:04:35.976339Z"
    }
   },
   "outputs": [],
   "source": [
    "DATA = '../data/data_clean/'\n",
    "CONF = '../configs/roman.json'"
   ]
  },
  {
   "cell_type": "code",
   "execution_count": 4,
   "metadata": {
    "ExecuteTime": {
     "end_time": "2019-02-06T13:04:36.012956Z",
     "start_time": "2019-02-06T13:04:35.998195Z"
    }
   },
   "outputs": [
    {
     "data": {
      "text/plain": [
       "{'exp_name': 'data',\n",
       " 'seed': 230,\n",
       " 'image_size': 128,\n",
       " 'train_percentage': 0.8,\n",
       " 'summary_dir': '../experiments/data/summary/',\n",
       " 'checkpoint_dir': '../experiments/data/checkpoint/'}"
      ]
     },
     "execution_count": 4,
     "metadata": {},
     "output_type": "execute_result"
    }
   ],
   "source": [
    "config = process_config(CONF)\n",
    "config"
   ]
  },
  {
   "cell_type": "code",
   "execution_count": 5,
   "metadata": {
    "ExecuteTime": {
     "end_time": "2019-02-06T13:04:36.042065Z",
     "start_time": "2019-02-06T13:04:36.034504Z"
    }
   },
   "outputs": [],
   "source": [
    "def normalize(image):\n",
    "    return (image - image.min()) / (image.max() - image.min())\n",
    "\n",
    "def shuffle_sim(a, b):\n",
    "    assert a.shape[0] == a.shape[0], 'Shapes must be equal'\n",
    "    \n",
    "    ind = np.arange(a.shape[0])\n",
    "    np.random.shuffle(ind)\n",
    "    return a[ind], b[ind]"
   ]
  },
  {
   "cell_type": "code",
   "execution_count": 6,
   "metadata": {
    "ExecuteTime": {
     "end_time": "2019-02-06T13:04:36.077618Z",
     "start_time": "2019-02-06T13:04:36.067488Z"
    }
   },
   "outputs": [],
   "source": [
    "def read_train_test(path_to_data):\n",
    "    data = {}\n",
    "    for dset in ['train', 'test']:\n",
    "        path_ = os.path.join(path_to_data, dset)\n",
    "        X, Y = [], []\n",
    "        classes = [d for d in os.listdir(path_) if os.path.isdir(os.path.join(path_, d))]\n",
    "        classes.sort()\n",
    "        \n",
    "        for cl in classes:\n",
    "            y = np.zeros((1, 8), dtype=np.int32)\n",
    "            y[0, int(cl) - 1] = 1\n",
    "            \n",
    "            cl_path = os.path.join(path_, cl)\n",
    "            filenames = [os.path.join(cl_path, pict) for pict in os.listdir(cl_path) if pict.endswith('.jpg')]\n",
    "            \n",
    "            for im in filenames:\n",
    "                image = np.asarray(Image.open(im), dtype=np.float32)\n",
    "                X.append(normalize(image).reshape((1, image.shape[0], image.shape[1], image.shape[2])))\n",
    "                Y.append(y)\n",
    "        \n",
    "        a, b = shuffle_sim(np.concatenate(X), np.concatenate(Y))\n",
    "        data[dset] = ([a, b])\n",
    "    return data"
   ]
  },
  {
   "cell_type": "code",
   "execution_count": 7,
   "metadata": {
    "ExecuteTime": {
     "end_time": "2019-02-06T13:04:36.095829Z",
     "start_time": "2019-02-06T13:04:36.093372Z"
    }
   },
   "outputs": [],
   "source": [
    "EPOCHS = 100\n",
    "LR = 5e-2"
   ]
  },
  {
   "cell_type": "code",
   "execution_count": null,
   "metadata": {
    "ExecuteTime": {
     "end_time": "2019-02-06T13:04:37.207068Z",
     "start_time": "2019-02-06T13:04:37.105328Z"
    }
   },
   "outputs": [],
   "source": [
    "class Model():\n",
    "    \n",
    "    def __init__(self, config, sess_cf, learning_rate):\n",
    "        self.lr = learning_rate\n",
    "        self.sess = tf.Session(config=sess_cf)\n",
    "\n",
    "        self.x = tf.placeholder(dtype=tf.float32, shape=(None, config.image_size, config.image_size, 3))\n",
    "        self.y = tf.placeholder(dtype=tf.int32, shape=(None, 8))\n",
    "        self.training = tf.placeholder(dtype=tf.bool, shape=())\n",
    "\n",
    "        global_step = tf.Variable(1, name='global_step', trainable=False, dtype=tf.int32)\n",
    "        self.step = tf.assign(global_step, global_step + 1)\n",
    "        \n",
    "        self.model()\n",
    "        \n",
    "        self.summ_writer = tf.summary.FileWriter(config.summary_dir, graph=self.sess.graph)\n",
    "        self.sess.run(tf.global_variables_initializer())\n",
    "    \n",
    "    def block(self, inp,\n",
    "              ch,\n",
    "              num,\n",
    "              c_ker=(3, 3),\n",
    "              c_str=(1, 1),\n",
    "              act=relu,\n",
    "              mp_ker=(2, 2),\n",
    "              mp_str=(2, 2)):\n",
    "    \n",
    "        with tf.variable_scope('block_' + str(num)):\n",
    "            conv = conv2d(inp, ch, c_ker, strides=c_str)\n",
    "            bn = batch_normalization(conv)\n",
    "            out = act(bn)\n",
    "            tf.summary.histogram('conv1', conv)\n",
    "            print(out.shape)\n",
    "            \n",
    "            conv = conv2d(out, ch, c_ker, strides=c_str)\n",
    "            bn = batch_normalization(conv)\n",
    "            out = act(bn)\n",
    "            tf.summary.histogram('conv2', conv)\n",
    "            print(out.shape)\n",
    "            \n",
    "            out = max_pooling2d(out, (4, 4), strides=(2, 2))\n",
    "            print(out.shape)\n",
    "        return out\n",
    "    \n",
    "    def model(self):\n",
    "        with tf.name_scope('layers'):\n",
    "            out = self.block(self.x, 32, 1)\n",
    "            out = self.block(out, 64, 3, c_ker=(5, 5), c_str=(2, 2))\n",
    "            \n",
    "            dim = np.prod(out.shape[1:])\n",
    "            out = tf.reshape(out, [-1, dim])\n",
    "            print(out.shape)\n",
    "            \n",
    "            dense_l = dense(out, 128, activation=relu)\n",
    "            tf.summary.histogram('dense', dense_l)\n",
    "            out = dropout(dense_l, rate=0.6, training=self.training)\n",
    "            print(out.shape)\n",
    "\n",
    "            self.predictions = dense(out, 8, activation=softmax)\n",
    "            tf.summary.histogram('pred', self.predictions)\n",
    "\n",
    "        with tf.name_scope('metrics'):    \n",
    "            amax_labels = tf.argmax(self.y, 1)\n",
    "            amax_pred   = tf.argmax(self.predictions, 1)\n",
    "\n",
    "            self.loss = tf.losses.softmax_cross_entropy(self.y, self.predictions)        \n",
    "            self.acc = tf.reduce_mean(tf.cast(tf.equal(amax_labels, amax_pred), dtype=tf.float32))\n",
    "\n",
    "            self.optimizer = tf.train.AdamOptimizer(self.lr).minimize(self.loss)\n",
    "\n",
    "            tf.summary.scalar('loss', self.loss)\n",
    "            tf.summary.scalar('accuracy', self.acc)\n",
    "\n",
    "        self.summary = tf.summary.merge_all()\n",
    "        \n",
    "    def train(self, dat, dat_v, epochs):\n",
    "        for epoch in range(epochs):\n",
    "            loss, acc, _, summary, step = self.sess.run([\n",
    "                self.loss, self.acc, self.optimizer, self.summary, self.step\n",
    "            ],\n",
    "                                                feed_dict={\n",
    "                                                    self.x: dat[0],\n",
    "                                                    self.y: dat[1],\n",
    "                                                    self.training: True\n",
    "                                                })\n",
    "\n",
    "            self.summ_writer.add_summary(summary, step)\n",
    "            print('EP: {:3d}\\tLOSS: {:.10f}\\tACC: {:.10f}'.format(\n",
    "                epoch, loss, acc))\n",
    "\n",
    "            if epoch % 10 == 0 and epoch != 0:\n",
    "                self.test(dat_v)\n",
    "                \n",
    "    def test(self, dat):\n",
    "        loss, acc = self.sess.run([self.loss, self.acc],\n",
    "                                         feed_dict={self.x: dat[0],\n",
    "                                                    self.y: dat[1],\n",
    "                                                    self.training: False})\n",
    "\n",
    "        print('\\tVALIDATION\\tLOSS: {:.10f}\\tACC: {:.10f}'.format(loss, acc))\n",
    "    \n",
    "    def close(self):\n",
    "        self.sess.close()\n",
    "        "
   ]
  },
  {
   "cell_type": "code",
   "execution_count": 16,
   "metadata": {
    "ExecuteTime": {
     "end_time": "2019-02-06T13:04:23.891426Z",
     "start_time": "2019-02-06T13:04:23.879549Z"
    }
   },
   "outputs": [
    {
     "ename": "TypeError",
     "evalue": "close() takes 0 positional arguments but 1 was given",
     "output_type": "error",
     "traceback": [
      "\u001b[0;31m---------------------------------------------------------------------------\u001b[0m",
      "\u001b[0;31mTypeError\u001b[0m                                 Traceback (most recent call last)",
      "\u001b[0;32m<ipython-input-16-c3f79bf033d8>\u001b[0m in \u001b[0;36m<module>\u001b[0;34m\u001b[0m\n\u001b[0;32m----> 1\u001b[0;31m \u001b[0mm\u001b[0m\u001b[0;34m.\u001b[0m\u001b[0mclose\u001b[0m\u001b[0;34m(\u001b[0m\u001b[0;34m)\u001b[0m\u001b[0;34m\u001b[0m\u001b[0;34m\u001b[0m\u001b[0m\n\u001b[0m",
      "\u001b[0;31mTypeError\u001b[0m: close() takes 0 positional arguments but 1 was given"
     ]
    }
   ],
   "source": [
    "m.close()"
   ]
  },
  {
   "cell_type": "code",
   "execution_count": 9,
   "metadata": {
    "ExecuteTime": {
     "end_time": "2019-02-06T13:04:41.029774Z",
     "start_time": "2019-02-06T13:04:39.637384Z"
    }
   },
   "outputs": [
    {
     "name": "stdout",
     "output_type": "stream",
     "text": [
      "(?, 126, 126, 32)\n",
      "(?, 124, 124, 32)\n",
      "(?, 61, 61, 32)\n",
      "(?, 29, 29, 64)\n",
      "(?, 13, 13, 64)\n",
      "(?, 5, 5, 64)\n",
      "(?, 1600)\n",
      "(?, 128)\n"
     ]
    }
   ],
   "source": [
    "m = Model(config, config_tf, 1e-3)"
   ]
  },
  {
   "cell_type": "code",
   "execution_count": 10,
   "metadata": {
    "ExecuteTime": {
     "end_time": "2019-02-06T13:04:42.593319Z",
     "start_time": "2019-02-06T13:04:42.082053Z"
    }
   },
   "outputs": [],
   "source": [
    "dat = read_train_test(DATA)"
   ]
  },
  {
   "cell_type": "code",
   "execution_count": 12,
   "metadata": {
    "ExecuteTime": {
     "end_time": "2019-02-06T13:33:30.621111Z",
     "start_time": "2019-02-06T13:20:12.818354Z"
    },
    "scrolled": false
   },
   "outputs": [
    {
     "name": "stdout",
     "output_type": "stream",
     "text": [
      "EP:   0\tLOSS: 1.4244050980\tACC: 0.8503254056\n",
      "EP:   1\tLOSS: 1.4169538021\tACC: 0.8633405566\n",
      "EP:   2\tLOSS: 1.4444649220\tACC: 0.8373101950\n",
      "EP:   3\tLOSS: 1.4429585934\tACC: 0.8481561542\n",
      "EP:   4\tLOSS: 1.4298957586\tACC: 0.8481561542\n",
      "EP:   5\tLOSS: 1.4400215149\tACC: 0.8264642358\n",
      "EP:   6\tLOSS: 1.4013578892\tACC: 0.8763557673\n",
      "EP:   7\tLOSS: 1.4075146914\tACC: 0.8633405566\n",
      "EP:   8\tLOSS: 1.4176148176\tACC: 0.8546637893\n",
      "EP:   9\tLOSS: 1.4195505381\tACC: 0.8546637893\n",
      "EP:  10\tLOSS: 1.4132559299\tACC: 0.8611713648\n",
      "\tVALIDATION\tLOSS: 1.4631863832\tACC: 0.8166666627\n",
      "EP:  11\tLOSS: 1.4003722668\tACC: 0.8741865754\n",
      "EP:  12\tLOSS: 1.4082163572\tACC: 0.8698481321\n",
      "EP:  13\tLOSS: 1.4030748606\tACC: 0.8850325346\n",
      "EP:  14\tLOSS: 1.4009544849\tACC: 0.8806941509\n",
      "EP:  15\tLOSS: 1.4130227566\tACC: 0.8763557673\n",
      "EP:  16\tLOSS: 1.3840453625\tACC: 0.8937093019\n",
      "EP:  17\tLOSS: 1.3946684599\tACC: 0.8828633428\n",
      "EP:  18\tLOSS: 1.4043464661\tACC: 0.8763557673\n",
      "EP:  19\tLOSS: 1.4015620947\tACC: 0.8785249591\n",
      "EP:  20\tLOSS: 1.3929735422\tACC: 0.8872017264\n",
      "\tVALIDATION\tLOSS: 1.4867395163\tACC: 0.7916666865\n",
      "EP:  21\tLOSS: 1.3824115992\tACC: 0.9023861289\n",
      "EP:  22\tLOSS: 1.3734468222\tACC: 0.9088937044\n",
      "EP:  23\tLOSS: 1.3908641338\tACC: 0.8915401101\n",
      "EP:  24\tLOSS: 1.3997471333\tACC: 0.8785249591\n",
      "EP:  25\tLOSS: 1.3780205250\tACC: 0.8937093019\n",
      "EP:  26\tLOSS: 1.3963199854\tACC: 0.8763557673\n",
      "EP:  27\tLOSS: 1.3878327608\tACC: 0.8893709183\n",
      "EP:  28\tLOSS: 1.3902053833\tACC: 0.8806941509\n",
      "EP:  29\tLOSS: 1.4017620087\tACC: 0.8720173240\n",
      "EP:  30\tLOSS: 1.4031680822\tACC: 0.8741865754\n",
      "\tVALIDATION\tLOSS: 1.4456487894\tACC: 0.8333333135\n",
      "EP:  31\tLOSS: 1.3911612034\tACC: 0.8850325346\n",
      "EP:  32\tLOSS: 1.3935513496\tACC: 0.8806941509\n",
      "EP:  33\tLOSS: 1.3760666847\tACC: 0.9023861289\n",
      "EP:  34\tLOSS: 1.4024057388\tACC: 0.8806941509\n",
      "EP:  35\tLOSS: 1.3891142607\tACC: 0.8828633428\n",
      "EP:  36\tLOSS: 1.3969144821\tACC: 0.8698481321\n",
      "EP:  37\tLOSS: 1.3769761324\tACC: 0.8958785534\n",
      "EP:  38\tLOSS: 1.3731428385\tACC: 0.9045553207\n",
      "EP:  39\tLOSS: 1.3696680069\tACC: 0.9088937044\n",
      "EP:  40\tLOSS: 1.3688368797\tACC: 0.9088937044\n",
      "\tVALIDATION\tLOSS: 1.4574328661\tACC: 0.8083333373\n",
      "EP:  41\tLOSS: 1.3702169657\tACC: 0.9110628963\n",
      "EP:  42\tLOSS: 1.3904603720\tACC: 0.8872017264\n",
      "EP:  43\tLOSS: 1.3881424665\tACC: 0.8915401101\n",
      "EP:  44\tLOSS: 1.3806024790\tACC: 0.8980477452\n",
      "EP:  45\tLOSS: 1.3523606062\tACC: 0.9284164906\n",
      "EP:  46\tLOSS: 1.3543963432\tACC: 0.9240781069\n",
      "EP:  47\tLOSS: 1.3780633211\tACC: 0.8980477452\n",
      "EP:  48\tLOSS: 1.3737154007\tACC: 0.9045553207\n",
      "EP:  49\tLOSS: 1.3573868275\tACC: 0.9262472987\n",
      "EP:  50\tLOSS: 1.3707817793\tACC: 0.9023861289\n",
      "\tVALIDATION\tLOSS: 1.4607850313\tACC: 0.8000000119\n",
      "EP:  51\tLOSS: 1.3598426580\tACC: 0.9197397232\n",
      "EP:  52\tLOSS: 1.3512252569\tACC: 0.9305856824\n",
      "EP:  53\tLOSS: 1.3716887236\tACC: 0.9045553207\n",
      "EP:  54\tLOSS: 1.3688914776\tACC: 0.9067245126\n",
      "EP:  55\tLOSS: 1.3713132143\tACC: 0.9067245126\n",
      "EP:  56\tLOSS: 1.3595647812\tACC: 0.9197397232\n",
      "EP:  57\tLOSS: 1.3760721684\tACC: 0.9067245126\n",
      "EP:  58\tLOSS: 1.3695811033\tACC: 0.9067245126\n",
      "EP:  59\tLOSS: 1.3512406349\tACC: 0.9240781069\n",
      "EP:  60\tLOSS: 1.3705048561\tACC: 0.9067245126\n",
      "\tVALIDATION\tLOSS: 1.4420816898\tACC: 0.8249999881\n",
      "EP:  61\tLOSS: 1.3625688553\tACC: 0.9088937044\n",
      "EP:  62\tLOSS: 1.3504121304\tACC: 0.9305856824\n",
      "EP:  63\tLOSS: 1.3704526424\tACC: 0.9088937044\n",
      "EP:  64\tLOSS: 1.3558012247\tACC: 0.9197397232\n",
      "EP:  65\tLOSS: 1.3519598246\tACC: 0.9284164906\n",
      "EP:  66\tLOSS: 1.3401753902\tACC: 0.9349240661\n",
      "EP:  67\tLOSS: 1.3599280119\tACC: 0.9175704718\n",
      "EP:  68\tLOSS: 1.3450415134\tACC: 0.9305856824\n",
      "EP:  69\tLOSS: 1.3485516310\tACC: 0.9305856824\n",
      "EP:  70\tLOSS: 1.3472663164\tACC: 0.9284164906\n",
      "\tVALIDATION\tLOSS: 1.4329298735\tACC: 0.8416666389\n",
      "EP:  71\tLOSS: 1.3530240059\tACC: 0.9262472987\n",
      "EP:  72\tLOSS: 1.3446120024\tACC: 0.9305856824\n",
      "EP:  73\tLOSS: 1.3349149227\tACC: 0.9392624497\n",
      "EP:  74\tLOSS: 1.3438093662\tACC: 0.9305856824\n",
      "EP:  75\tLOSS: 1.3480498791\tACC: 0.9262472987\n",
      "EP:  76\tLOSS: 1.3516143560\tACC: 0.9284164906\n",
      "EP:  77\tLOSS: 1.3393650055\tACC: 0.9370932579\n",
      "EP:  78\tLOSS: 1.3631268740\tACC: 0.9088937044\n",
      "EP:  79\tLOSS: 1.3403725624\tACC: 0.9392624497\n",
      "EP:  80\tLOSS: 1.3370753527\tACC: 0.9414316416\n",
      "\tVALIDATION\tLOSS: 1.4416301250\tACC: 0.8333333135\n",
      "EP:  81\tLOSS: 1.3394073248\tACC: 0.9370932579\n",
      "EP:  82\tLOSS: 1.3460071087\tACC: 0.9327548742\n",
      "EP:  83\tLOSS: 1.3360583782\tACC: 0.9436008930\n",
      "EP:  84\tLOSS: 1.3378241062\tACC: 0.9392624497\n",
      "EP:  85\tLOSS: 1.3449809551\tACC: 0.9284164906\n",
      "EP:  86\tLOSS: 1.3337514400\tACC: 0.9479392767\n",
      "EP:  87\tLOSS: 1.3323967457\tACC: 0.9479392767\n",
      "EP:  88\tLOSS: 1.3425605297\tACC: 0.9284164906\n",
      "EP:  89\tLOSS: 1.3387240171\tACC: 0.9392624497\n",
      "EP:  90\tLOSS: 1.3363885880\tACC: 0.9414316416\n",
      "\tVALIDATION\tLOSS: 1.4360786676\tACC: 0.8333333135\n",
      "EP:  91\tLOSS: 1.3421192169\tACC: 0.9305856824\n",
      "EP:  92\tLOSS: 1.3465875387\tACC: 0.9305856824\n",
      "EP:  93\tLOSS: 1.3566573858\tACC: 0.9175704718\n",
      "EP:  94\tLOSS: 1.3456916809\tACC: 0.9349240661\n",
      "EP:  95\tLOSS: 1.3351196051\tACC: 0.9436008930\n",
      "EP:  96\tLOSS: 1.3316915035\tACC: 0.9436008930\n",
      "EP:  97\tLOSS: 1.3472694159\tACC: 0.9305856824\n",
      "EP:  98\tLOSS: 1.3502453566\tACC: 0.9284164906\n",
      "EP:  99\tLOSS: 1.3329255581\tACC: 0.9414316416\n"
     ]
    }
   ],
   "source": [
    "m.train(dat['train'], dat['test'], 100)"
   ]
  },
  {
   "cell_type": "code",
   "execution_count": null,
   "metadata": {},
   "outputs": [],
   "source": []
  }
 ],
 "metadata": {
  "kernelspec": {
   "display_name": "Python 3",
   "language": "python",
   "name": "python3"
  },
  "language_info": {
   "codemirror_mode": {
    "name": "ipython",
    "version": 3
   },
   "file_extension": ".py",
   "mimetype": "text/x-python",
   "name": "python",
   "nbconvert_exporter": "python",
   "pygments_lexer": "ipython3",
   "version": "3.6.8"
  },
  "varInspector": {
   "cols": {
    "lenName": 16,
    "lenType": 16,
    "lenVar": 40
   },
   "kernels_config": {
    "python": {
     "delete_cmd_postfix": "",
     "delete_cmd_prefix": "del ",
     "library": "var_list.py",
     "varRefreshCmd": "print(var_dic_list())"
    },
    "r": {
     "delete_cmd_postfix": ") ",
     "delete_cmd_prefix": "rm(",
     "library": "var_list.r",
     "varRefreshCmd": "cat(var_dic_list()) "
    }
   },
   "types_to_exclude": [
    "module",
    "function",
    "builtin_function_or_method",
    "instance",
    "_Feature"
   ],
   "window_display": false
  }
 },
 "nbformat": 4,
 "nbformat_minor": 2
}
