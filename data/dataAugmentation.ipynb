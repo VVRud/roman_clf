{
 "cells": [
  {
   "cell_type": "code",
   "execution_count": 1,
   "metadata": {
    "ExecuteTime": {
     "end_time": "2019-02-08T19:20:39.040868Z",
     "start_time": "2019-02-08T19:20:37.614746Z"
    }
   },
   "outputs": [],
   "source": [
    "import os\n",
    "import numpy as np\n",
    "import cv2\n",
    "from imgaug import augmenters as iaa\n",
    "import imgaug as ia"
   ]
  },
  {
   "cell_type": "markdown",
   "metadata": {},
   "source": [
    "## Simple Augmentations"
   ]
  },
  {
   "cell_type": "code",
   "execution_count": 2,
   "metadata": {
    "ExecuteTime": {
     "end_time": "2019-02-08T19:20:42.365262Z",
     "start_time": "2019-02-08T19:20:42.347094Z"
    }
   },
   "outputs": [],
   "source": [
    "sometimes = lambda aug: iaa.Sometimes(0.3, aug)\n",
    "\n",
    "aug_list = [\n",
    "    sometimes(\n",
    "        iaa.OneOf([\n",
    "            iaa.Crop(px=(\n",
    "                0, 5 #Crop away pixels at the sides of the image.\n",
    "            )), \n",
    "            iaa.CropAndPad(percent=(-0.05, 0.05)),\n",
    "            #Crop or pad each side(negative values result in cropping, positive in padding).\n",
    "            iaa.PiecewiseAffine(scale=(0.01, 0.03)),\n",
    "            #Distort images locally by moving points around.\n",
    "            iaa.Affine(\n",
    "            #Affine transformations on images.\n",
    "                scale={\n",
    "                    \"x\": (0.8, 1.0),\n",
    "                    \"y\": (0.8, 1.0)\n",
    "                },\n",
    "                translate_percent={\n",
    "                    \"x\": (-0.1, 0.1),\n",
    "                    \"y\": (-0.1, 0.1)\n",
    "                },\n",
    "                shear=(-8, 8),\n",
    "                order=[0, 1],\n",
    "                cval=255,\n",
    "                mode=ia.ALL)\n",
    "        ])),\n",
    "    sometimes(\n",
    "        iaa.OneOf([\n",
    "            iaa.GaussianBlur(sigma=(0, 0.1)),\n",
    "            #Blur each image with a gaussian kernel.\n",
    "            iaa.AverageBlur(k=(2, 3)),\n",
    "            #Blur each image using a mean over neihbourhoods.\n",
    "            iaa.MedianBlur(k=(1, 3)),\n",
    "            #Blur each image using a median over neihbourhoods.\n",
    "            iaa.Dropout(p=(0, 0.005)),\n",
    "            #Set a certain fraction of pixels in images to zero.\n",
    "            iaa.Add((-5, 5)),\n",
    "            #Add a value to all pixels in an image.\n",
    "            iaa.ElasticTransformation(alpha=(0, 1.0), sigma=0.005),\n",
    "            #Distort image locally by moving individual pixels around. \n",
    "            iaa.AdditiveGaussianNoise(scale=(0, 0.02 * 255))\n",
    "            #Add gaussian noise.\n",
    "        ])),\n",
    "    iaa.ContrastNormalization((1.0, 2.0)),\n",
    "    #Change and normalize the contrast of image.\n",
    "    iaa.OneOf([\n",
    "        iaa.Sharpen(alpha=(0, 1.0), lightness=(0.75, 1.5)),\n",
    "        #Sharpen an image, then overlay the results with the original. \n",
    "        iaa.Emboss(alpha=(0, 1.0), strength=(0, 2.0)),\n",
    "        #Emboss an image, then overlay the results with the original. \n",
    "    ]),\n",
    "]"
   ]
  },
  {
   "cell_type": "code",
   "execution_count": 23,
   "metadata": {
    "ExecuteTime": {
     "end_time": "2019-02-08T19:15:23.006419Z",
     "start_time": "2019-02-08T19:15:22.981908Z"
    }
   },
   "outputs": [
    {
     "name": "stdout",
     "output_type": "stream",
     "text": [
      "126\n",
      "9\n",
      "1251\n",
      "126\n",
      "9\n",
      "1251\n",
      "122\n",
      "10\n",
      "1251\n",
      "124\n",
      "10\n",
      "1251\n",
      "126\n",
      "9\n",
      "1251\n",
      "126\n",
      "9\n",
      "1251\n",
      "126\n",
      "9\n",
      "1251\n",
      "125\n",
      "10\n",
      "1251\n"
     ]
    }
   ],
   "source": [
    "directory = '../data_clean/'\n",
    "number_to_have = 1250\n",
    "\n",
    "classes = [\n",
    "    d for d in os.listdir(directory)\n",
    "    if os.path.isdir(os.path.join(directory, d)) and not str.startswith(d, '.ipynb')\n",
    "]\n",
    "classes.sort()\n",
    "\n",
    "for cl in classes:\n",
    "    transformations = aug_list.copy()\n",
    "    if cl in ['1', '2', '3', '5']:\n",
    "        transformations.append(iaa.Fliplr(0.5))\n",
    "    if cl in ['1', '2', '3']:\n",
    "        transformations.append(iaa.Flipud(0.2))\n",
    "    seq = iaa.Sequential(transformations, random_order=True)\n",
    "    \n",
    "    files = os.listdir(os.path.join(directory, cl))\n",
    "    \n",
    "    indicies = [int(name[:-4]) for name in files]\n",
    "    indicies.sort()\n",
    "    index = indicies[-1] + 1\n",
    "    \n",
    "    images = np.array([cv2.imread(os.path.join(directory, cl, fname)) for fname in files])\n",
    "    images = files\n",
    "    steps = int(np.ceil((number_to_have - len(files)) / len(files)))\n",
    "    for step in range(steps):\n",
    "        if step + 1 == steps:\n",
    "            ind = list(range(len(files)))\n",
    "            np.random.shuffle(ind)\n",
    "            to_get = number_to_have - (step * len(files) + len(files))\n",
    "            images = images[ind[:to_get]]\n",
    "        \n",
    "        images_aug = seq.augment_images(images)\n",
    "        for image in images_aug:\n",
    "            cv2.imwrite(os.path.join(directory, cl, str(index) + '.jpg'))\n",
    "            index += 1\n"
   ]
  },
  {
   "cell_type": "code",
   "execution_count": null,
   "metadata": {},
   "outputs": [],
   "source": []
  }
 ],
 "metadata": {
  "kernelspec": {
   "display_name": "Python 3",
   "language": "python",
   "name": "python3"
  },
  "language_info": {
   "codemirror_mode": {
    "name": "ipython",
    "version": 3
   },
   "file_extension": ".py",
   "mimetype": "text/x-python",
   "name": "python",
   "nbconvert_exporter": "python",
   "pygments_lexer": "ipython3",
   "version": "3.6.8"
  },
  "varInspector": {
   "cols": {
    "lenName": 16,
    "lenType": 16,
    "lenVar": 40
   },
   "kernels_config": {
    "python": {
     "delete_cmd_postfix": "",
     "delete_cmd_prefix": "del ",
     "library": "var_list.py",
     "varRefreshCmd": "print(var_dic_list())"
    },
    "r": {
     "delete_cmd_postfix": ") ",
     "delete_cmd_prefix": "rm(",
     "library": "var_list.r",
     "varRefreshCmd": "cat(var_dic_list()) "
    }
   },
   "types_to_exclude": [
    "module",
    "function",
    "builtin_function_or_method",
    "instance",
    "_Feature"
   ],
   "window_display": false
  }
 },
 "nbformat": 4,
 "nbformat_minor": 2
}
