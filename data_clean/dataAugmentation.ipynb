{
 "cells": [
  {
   "cell_type": "code",
   "execution_count": 25,
   "metadata": {},
   "outputs": [],
   "source": [
    "import os\n",
    "import numpy as np\n",
    "import scipy as sp\n",
    "import cv2\n",
    "from matplotlib import pyplot as plt\n",
    "%matplotlib inline\n",
    "import random\n",
    "from imgaug import augmenters as iaa\n",
    "import imgaug as ia\n",
    "import sys"
   ]
  },
  {
   "cell_type": "markdown",
   "metadata": {},
   "source": [
    "## Simple Augmentations"
   ]
  },
  {
   "cell_type": "code",
   "execution_count": 26,
   "metadata": {},
   "outputs": [],
   "source": [
    "sometimes = lambda aug: iaa.Sometimes(0.3, aug)\n",
    "\n",
    "seq = iaa.Sequential([\n",
    "    \n",
    "    #iaa.Fliplr(0.5), # horizontally flip 50% of the images\n",
    "    #iaa.Flipud(0.2),   \n",
    "        \n",
    "    sometimes(iaa.OneOf([\n",
    "        \n",
    "            iaa.Crop(px=(0, 5)), # crop images from each side by 0 to 16px (randomly chosen)\n",
    "            iaa.CropAndPad(percent=(-0.05, 0.05)),  \n",
    "            iaa.PiecewiseAffine(scale=(0.01, 0.03)),\n",
    "        \n",
    "            iaa.Affine(\n",
    "                scale={\"x\": (0.8, 1.0), \"y\": (0.8, 1.0)},\n",
    "                translate_percent={\"x\": (-0.1, 0.1), \"y\": (-0.1, 0.1)},\n",
    "                 \n",
    "                shear=(-8, 8),\n",
    "                order=[0, 1],\n",
    "                cval=255,\n",
    "                mode=ia.ALL\n",
    "            )\n",
    "        ])\n",
    "    ),\n",
    "    \n",
    "    sometimes(iaa.OneOf([\n",
    "        \n",
    "        iaa.GaussianBlur(sigma=(0, 0.1)),\n",
    "        iaa.AverageBlur(k=(2, 3)),\n",
    "        iaa.MedianBlur(k=(1, 3)),\n",
    "        iaa.Dropout(p=(0, 0.005)),\n",
    "        iaa.Add((-5, 5)),\n",
    "        iaa.ElasticTransformation(alpha=(0, 1.0), sigma=0.005),\n",
    "        iaa.AdditiveGaussianNoise(scale=(0, 0.02*255))  \n",
    "        \n",
    "    ])),\n",
    "    \n",
    "    iaa.ContrastNormalization((1.0, 2.0)),\n",
    "    \n",
    "    iaa.OneOf([\n",
    "        \n",
    "        iaa.Sharpen(alpha=(0, 1.0), lightness=(0.75, 1.5)),\n",
    "        iaa.Emboss(alpha=(0, 1.0), strength=(0, 2.0)),\n",
    "\n",
    "    ]),\n",
    "    \n",
    "], random_order=True)"
   ]
  },
  {
   "cell_type": "code",
   "execution_count": 27,
   "metadata": {},
   "outputs": [],
   "source": [
    "directory = '/home/pyvovar/roman_clf/data_clean/8'\n",
    "\n",
    "i = 0\n",
    "for num_iter in range(10):\n",
    "    images = np.array([cv2.imread(directory + '/' + fname) for fname in os.listdir(directory)])\n",
    "    images_aug = seq.augment_images(images)\n",
    "    #for img in images_aug:\n",
    "    #    plt.imshow(np.uint8(img))\n",
    "    #    plt.show()\n",
    "    #for img_aug in images_aug:\n",
    "    #    cv2.imwrite(os.path.join(directory + 'aug', '8aug' + str(i) + '.jpg', ), img_aug)\n",
    "    #    i += 1"
   ]
  },
  {
   "cell_type": "code",
   "execution_count": null,
   "metadata": {},
   "outputs": [],
   "source": []
  }
 ],
 "metadata": {
  "kernelspec": {
   "display_name": "Python 3",
   "language": "python",
   "name": "python3"
  },
  "language_info": {
   "codemirror_mode": {
    "name": "ipython",
    "version": 3
   },
   "file_extension": ".py",
   "mimetype": "text/x-python",
   "name": "python",
   "nbconvert_exporter": "python",
   "pygments_lexer": "ipython3",
   "version": "3.7.1"
  }
 },
 "nbformat": 4,
 "nbformat_minor": 2
}
